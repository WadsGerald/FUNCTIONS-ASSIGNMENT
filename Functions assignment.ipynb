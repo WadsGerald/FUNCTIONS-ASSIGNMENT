{
 "cells": [
  {
   "cell_type": "markdown",
   "id": "31a13316-24ba-4049-90a8-6bc6a3838121",
   "metadata": {},
   "source": [
    "1. What is the difference between a function and a method in Python?\n",
    "   A function is a block of reusable code that is defined using the def keyword. It can be called by its name and can take arguments and return a result.\n",
    "   While method is a function that is associated with an object. It is defined within a class and is called using the object's instance. Methods have self as their first parameter."
   ]
  },
  {
   "cell_type": "code",
   "execution_count": 1,
   "id": "bbb13ddc-77ab-48bb-b0a6-2e11eb2d41e5",
   "metadata": {},
   "outputs": [],
   "source": [
    "#for a function\n",
    "def func():\n",
    "    return \"This is my first function\"\n",
    "    "
   ]
  },
  {
   "cell_type": "code",
   "execution_count": 3,
   "id": "f129be53-e71b-4334-a3cb-37bbf6874804",
   "metadata": {},
   "outputs": [
    {
     "data": {
      "text/plain": [
       "'This is my first function'"
      ]
     },
     "execution_count": 3,
     "metadata": {},
     "output_type": "execute_result"
    }
   ],
   "source": [
    "func()"
   ]
  },
  {
   "cell_type": "code",
   "execution_count": 5,
   "id": "dac48d54-c5c1-4729-9cee-c71304a873d9",
   "metadata": {},
   "outputs": [
    {
     "name": "stdout",
     "output_type": "stream",
     "text": [
      "This is my first method\n"
     ]
    }
   ],
   "source": [
    "#for a method\n",
    "class MyClass:\n",
    "    def my_method(self):\n",
    "        print(\"This is my first method\")\n",
    "obj = MyClass()\n",
    "obj.my_method()  \n",
    "\n"
   ]
  },
  {
   "cell_type": "markdown",
   "id": "7f4a5dec-2a8f-4a23-88aa-0f3ed84ee1b1",
   "metadata": {},
   "source": [
    "\n",
    "2. Explain the concept of function arguments and parameters in Python.\n",
    "    Parameters are the variables listed inside the parentheses in the function definition.\n",
    "    Arguments are the values passed to the function when it is called."
   ]
  },
  {
   "cell_type": "markdown",
   "id": "085c0fb6-993c-4d5c-a5c1-edcfb8a58f2d",
   "metadata": {},
   "source": [
    " def greetings(name):\n",
    "     print(\"Welcome to the office\", name) #name is a parameter\n",
    "\n",
    "greetings(\"Gerald\") #Gerald is an argument"
   ]
  },
  {
   "cell_type": "markdown",
   "id": "0a5369c9-4a29-47c6-a5b6-8bc345b5b5ad",
   "metadata": {},
   "source": [
    "3. What are the different ways to define and call a function in Python?\n",
    "   You can define a function using the def keyword, and call it from anywhere in the program. You can also pass different types of arguments to a function, such as variable-length arguments and arbitrary keyword arguments"
   ]
  },
  {
   "cell_type": "code",
   "execution_count": 11,
   "id": "d992e2d3-d474-4174-84cb-6c29776d4994",
   "metadata": {},
   "outputs": [
    {
     "name": "stdout",
     "output_type": "stream",
     "text": [
      "Hello\n"
     ]
    }
   ],
   "source": [
    "def my_function():\n",
    "    print(\"Hello\")\n",
    "my_function()\n"
   ]
  },
  {
   "cell_type": "code",
   "execution_count": 17,
   "id": "afe7b719-9d9e-42b1-aa8b-e8e48cf5512d",
   "metadata": {},
   "outputs": [
    {
     "data": {
      "text/plain": [
       "8"
      ]
     },
     "execution_count": 17,
     "metadata": {},
     "output_type": "execute_result"
    }
   ],
   "source": [
    "#Or\n",
    "def add(a, b):\n",
    "    return a + b\n",
    "\n",
    "result = add(3, 5)\n",
    "result\n"
   ]
  },
  {
   "cell_type": "markdown",
   "id": "a964acb6-32da-4255-aa2e-f5670e81b25b",
   "metadata": {},
   "source": [
    "4. What is the purpose of the `return` statement in a Python function?\n",
    "   The return statement is used to exit a function and go back to the place where it was called. It can return a value to the caller."
   ]
  },
  {
   "cell_type": "markdown",
   "id": "4c53ca26-5e5c-4678-b379-3eef41c47ce3",
   "metadata": {},
   "source": [
    "5. What are iterators in Python and how do they differ from iterables?\n",
    "iterable is any python object/sequence str that is capable of returning its members one at a time\n",
    "interator  is an object representing a stream of data, returns the data one by one"
   ]
  },
  {
   "cell_type": "code",
   "execution_count": 21,
   "id": "886e2e93-f40a-4ef1-a888-5b58f24a95c5",
   "metadata": {},
   "outputs": [
    {
     "name": "stdout",
     "output_type": "stream",
     "text": [
      "1\n"
     ]
    }
   ],
   "source": [
    "my_list = [1, 2, 3]\n",
    "my_iter = iter(my_list)  # Get an iterator\n",
    "print(next(my_iter))   \n"
   ]
  },
  {
   "cell_type": "markdown",
   "id": "7c0f0806-dad2-4001-af8d-9f4a633b53a5",
   "metadata": {},
   "source": [
    "6. Explain the concept of generators in Python and how they are defined.\n",
    "   Generators are a type of iterable, similar to functions but with the ability to pause and resume their execution. They use the yield keyword.\n",
    "   "
   ]
  },
  {
   "cell_type": "code",
   "execution_count": 23,
   "id": "a224fda5-d199-48f0-b4a2-144c1e95595a",
   "metadata": {},
   "outputs": [
    {
     "data": {
      "text/plain": [
       "<generator object square_number at 0x000002145A2C1B10>"
      ]
     },
     "execution_count": 23,
     "metadata": {},
     "output_type": "execute_result"
    }
   ],
   "source": [
    "def square_number(n):\n",
    "    for i in range(n):\n",
    "        yield i**2\n",
    "square_number(10)"
   ]
  },
  {
   "cell_type": "code",
   "execution_count": 27,
   "id": "d4d7f144-8fe4-4504-9574-112e5c425fcc",
   "metadata": {},
   "outputs": [
    {
     "data": {
      "text/plain": [
       "0"
      ]
     },
     "execution_count": 27,
     "metadata": {},
     "output_type": "execute_result"
    }
   ],
   "source": [
    "next(square_number(10))"
   ]
  },
  {
   "cell_type": "markdown",
   "id": "4104a813-d137-489a-ae6c-6f10db933a3a",
   "metadata": {},
   "source": [
    "7. What are the advantages of using generators over regular functions?\n",
    "   Memory Efficiency: Generators do not store all values in memory, they generate values on the fly.\n",
    "   Lazy Evaluation: They only generate values when needed, which is useful for large datasets.\n",
    "   Infinite Sequences: Generators can represent infinite sequences without running out of memory."
   ]
  },
  {
   "cell_type": "markdown",
   "id": "35eb61da-5dc8-4289-9e62-36fe13fb1891",
   "metadata": {},
   "source": [
    "8. What is a lambda function in Python and when is it typically used?\n",
    "   A lambda function is a small anonymous function defined using the lambda keyword. They are often used for short, throwaway functions or when passing a simple function as an argument."
   ]
  },
  {
   "cell_type": "code",
   "execution_count": 29,
   "id": "635535ba-bfa6-4d25-9fd4-b62948dbbe3e",
   "metadata": {},
   "outputs": [
    {
     "data": {
      "text/plain": [
       "7"
      ]
     },
     "execution_count": 29,
     "metadata": {},
     "output_type": "execute_result"
    }
   ],
   "source": [
    "add = lambda a, b : a + b\n",
    "add(3,4)"
   ]
  },
  {
   "cell_type": "markdown",
   "id": "0a1398f9-4268-465a-a758-789d4f288a1c",
   "metadata": {},
   "source": [
    "9. Explain the purpose and usage of the `map()` function in Python.\n",
    " The map() function applies a given function to each item in an iterable  and returns a map object.\n"
   ]
  },
  {
   "cell_type": "code",
   "execution_count": 33,
   "id": "783a1b29-334d-4e8d-a32a-c706c7ec3279",
   "metadata": {},
   "outputs": [
    {
     "data": {
      "text/plain": [
       "[1, 4, 9, 9, 16, 16]"
      ]
     },
     "execution_count": 33,
     "metadata": {},
     "output_type": "execute_result"
    }
   ],
   "source": [
    "l = [1,2,3,3,4,4]\n",
    "def sq(x):\n",
    "    return x**2\n",
    "list(map(sq, l))"
   ]
  },
  {
   "cell_type": "markdown",
   "id": "b2158c1f-cb0b-49db-8818-0a1416be37b5",
   "metadata": {},
   "source": [
    "10. What is the difference between `map()`, `reduce()`, and `filter()` functions in Python?\n",
    "    map(): Applies a function to all items in an iterable.\n",
    "    reduce(): Applies a function to the items of an iterable cumulatively, reducing the iterable to a single value. Requires importing from functools.\n",
    "    filter(): Filters items in an iterable based on a function that returns True or False."
   ]
  },
  {
   "cell_type": "code",
   "execution_count": 35,
   "id": "37dee73c-2486-481d-9ad0-84ba74d0ecff",
   "metadata": {},
   "outputs": [
    {
     "data": {
      "text/plain": [
       "[2, 4, 6]"
      ]
     },
     "execution_count": 35,
     "metadata": {},
     "output_type": "execute_result"
    }
   ],
   "source": [
    "#map()\n",
    "nums = [1, 2, 3]\n",
    "list(map(lambda x: x * 2, nums))"
   ]
  },
  {
   "cell_type": "code",
   "execution_count": 43,
   "id": "52246625-a21e-46ef-b02e-65592108a6f6",
   "metadata": {},
   "outputs": [
    {
     "data": {
      "text/plain": [
       "8"
      ]
     },
     "execution_count": 43,
     "metadata": {},
     "output_type": "execute_result"
    }
   ],
   "source": [
    "#reduce\n",
    "from functools import reduce\n",
    "numbers = [1,2,3,4,8,6]\n",
    "reduce(lambda x,y:x if x>y else y, numbers)"
   ]
  },
  {
   "cell_type": "code",
   "execution_count": 45,
   "id": "6918e9c6-99dd-4189-92f6-e8184d662900",
   "metadata": {},
   "outputs": [
    {
     "data": {
      "text/plain": [
       "['dfafafaf']"
      ]
     },
     "execution_count": 45,
     "metadata": {},
     "output_type": "execute_result"
    }
   ],
   "source": [
    "#filter()\n",
    "s = [\"Ajay\", \"dfaf\", \"dfafafaf\", \"dfa\"]\n",
    "list(filter(lambda x : len(x)>4, s))"
   ]
  },
  {
   "cell_type": "markdown",
   "id": "4adf0f56-6a66-4afe-aa01-a52bf0e91921",
   "metadata": {},
   "source": [
    "Practical Questions:"
   ]
  },
  {
   "cell_type": "markdown",
   "id": "c77620f1-d424-401e-ada6-15086c3dae22",
   "metadata": {},
   "source": [
    "1. Write a Python function that takes a list of numbers as input and returns the sum of all even numbers in\n",
    "the list."
   ]
  },
  {
   "cell_type": "code",
   "execution_count": 17,
   "id": "1beb1530-45b7-4528-b3c7-61ae0329259e",
   "metadata": {},
   "outputs": [
    {
     "name": "stdin",
     "output_type": "stream",
     "text": [
      "Enter a list of numbers separated by spaces:  2 3 5 6\n"
     ]
    },
    {
     "name": "stdout",
     "output_type": "stream",
     "text": [
      "8\n"
     ]
    }
   ],
   "source": [
    "def sum_even_numbers():\n",
    "    numbers = input(\"Enter a list of numbers separated by spaces: \")\n",
    "    numbers = map(int, numbers.split())\n",
    "    return sum(num for num in numbers if num % 2 == 0)\n",
    "\n",
    "print(sum_even_numbers())\n",
    "\n"
   ]
  },
  {
   "cell_type": "markdown",
   "id": "342777ad-f6f9-4866-a364-6fc0ac7abd2e",
   "metadata": {},
   "source": [
    "2. Create a Python function that accepts a string and returns the reverse of that string."
   ]
  },
  {
   "cell_type": "code",
   "execution_count": 11,
   "id": "525023f6-32e5-4e59-be9a-cddeb12b7026",
   "metadata": {},
   "outputs": [
    {
     "name": "stdout",
     "output_type": "stream",
     "text": [
      "olleh\n"
     ]
    }
   ],
   "source": [
    "def reverse_string(s):\n",
    "    return s[::-1]\n",
    "print(reverse_string(\"hello\"))"
   ]
  },
  {
   "cell_type": "markdown",
   "id": "7e331b1c-b15e-40af-a56f-2ff2675367dc",
   "metadata": {},
   "source": [
    "3. Implement a Python function that takes a list of integers and returns a new list containing the squares of \n",
    "each number."
   ]
  },
  {
   "cell_type": "code",
   "execution_count": 19,
   "id": "28f16ba5-c8a7-447b-b39c-105d43561deb",
   "metadata": {},
   "outputs": [
    {
     "data": {
      "text/plain": [
       "[16, 25, 36, 9, 4]"
      ]
     },
     "execution_count": 19,
     "metadata": {},
     "output_type": "execute_result"
    }
   ],
   "source": [
    "def square_number(n):\n",
    "    result = []\n",
    "    for i in n:\n",
    "        result.append(i**2)\n",
    "    return result\n",
    "square_number([4,5,6,3,2])\n"
   ]
  },
  {
   "cell_type": "markdown",
   "id": "1b3cbe76-866b-4f08-94fa-946b87cfd6ce",
   "metadata": {},
   "source": [
    "4. Write a Python function that checks if a given number is prime or not from 1 to 200."
   ]
  },
  {
   "cell_type": "code",
   "execution_count": 29,
   "id": "9cb06f1a-909e-4001-bcf1-4e618b2bd3e8",
   "metadata": {},
   "outputs": [
    {
     "name": "stdout",
     "output_type": "stream",
     "text": [
      "1 is not a prime number.\n",
      "2 is a prime number.\n",
      "3 is a prime number.\n",
      "4 is not a prime number.\n",
      "5 is a prime number.\n",
      "6 is not a prime number.\n",
      "7 is a prime number.\n",
      "8 is not a prime number.\n",
      "9 is not a prime number.\n",
      "10 is not a prime number.\n",
      "11 is a prime number.\n",
      "12 is not a prime number.\n",
      "13 is a prime number.\n",
      "14 is not a prime number.\n",
      "15 is not a prime number.\n",
      "16 is not a prime number.\n",
      "17 is a prime number.\n",
      "18 is not a prime number.\n",
      "19 is a prime number.\n",
      "20 is not a prime number.\n",
      "21 is not a prime number.\n",
      "22 is not a prime number.\n",
      "23 is a prime number.\n",
      "24 is not a prime number.\n",
      "25 is not a prime number.\n",
      "26 is not a prime number.\n",
      "27 is not a prime number.\n",
      "28 is not a prime number.\n",
      "29 is a prime number.\n",
      "30 is not a prime number.\n",
      "31 is a prime number.\n",
      "32 is not a prime number.\n",
      "33 is not a prime number.\n",
      "34 is not a prime number.\n",
      "35 is not a prime number.\n",
      "36 is not a prime number.\n",
      "37 is a prime number.\n",
      "38 is not a prime number.\n",
      "39 is not a prime number.\n",
      "40 is not a prime number.\n",
      "41 is a prime number.\n",
      "42 is not a prime number.\n",
      "43 is a prime number.\n",
      "44 is not a prime number.\n",
      "45 is not a prime number.\n",
      "46 is not a prime number.\n",
      "47 is a prime number.\n",
      "48 is not a prime number.\n",
      "49 is not a prime number.\n",
      "50 is not a prime number.\n",
      "51 is not a prime number.\n",
      "52 is not a prime number.\n",
      "53 is a prime number.\n",
      "54 is not a prime number.\n",
      "55 is not a prime number.\n",
      "56 is not a prime number.\n",
      "57 is not a prime number.\n",
      "58 is not a prime number.\n",
      "59 is a prime number.\n",
      "60 is not a prime number.\n",
      "61 is a prime number.\n",
      "62 is not a prime number.\n",
      "63 is not a prime number.\n",
      "64 is not a prime number.\n",
      "65 is not a prime number.\n",
      "66 is not a prime number.\n",
      "67 is a prime number.\n",
      "68 is not a prime number.\n",
      "69 is not a prime number.\n",
      "70 is not a prime number.\n",
      "71 is a prime number.\n",
      "72 is not a prime number.\n",
      "73 is a prime number.\n",
      "74 is not a prime number.\n",
      "75 is not a prime number.\n",
      "76 is not a prime number.\n",
      "77 is not a prime number.\n",
      "78 is not a prime number.\n",
      "79 is a prime number.\n",
      "80 is not a prime number.\n",
      "81 is not a prime number.\n",
      "82 is not a prime number.\n",
      "83 is a prime number.\n",
      "84 is not a prime number.\n",
      "85 is not a prime number.\n",
      "86 is not a prime number.\n",
      "87 is not a prime number.\n",
      "88 is not a prime number.\n",
      "89 is a prime number.\n",
      "90 is not a prime number.\n",
      "91 is not a prime number.\n",
      "92 is not a prime number.\n",
      "93 is not a prime number.\n",
      "94 is not a prime number.\n",
      "95 is not a prime number.\n",
      "96 is not a prime number.\n",
      "97 is a prime number.\n",
      "98 is not a prime number.\n",
      "99 is not a prime number.\n",
      "100 is not a prime number.\n",
      "101 is a prime number.\n",
      "102 is not a prime number.\n",
      "103 is a prime number.\n",
      "104 is not a prime number.\n",
      "105 is not a prime number.\n",
      "106 is not a prime number.\n",
      "107 is a prime number.\n",
      "108 is not a prime number.\n",
      "109 is a prime number.\n",
      "110 is not a prime number.\n",
      "111 is not a prime number.\n",
      "112 is not a prime number.\n",
      "113 is a prime number.\n",
      "114 is not a prime number.\n",
      "115 is not a prime number.\n",
      "116 is not a prime number.\n",
      "117 is not a prime number.\n",
      "118 is not a prime number.\n",
      "119 is not a prime number.\n",
      "120 is not a prime number.\n",
      "121 is not a prime number.\n",
      "122 is not a prime number.\n",
      "123 is not a prime number.\n",
      "124 is not a prime number.\n",
      "125 is not a prime number.\n",
      "126 is not a prime number.\n",
      "127 is a prime number.\n",
      "128 is not a prime number.\n",
      "129 is not a prime number.\n",
      "130 is not a prime number.\n",
      "131 is a prime number.\n",
      "132 is not a prime number.\n",
      "133 is not a prime number.\n",
      "134 is not a prime number.\n",
      "135 is not a prime number.\n",
      "136 is not a prime number.\n",
      "137 is a prime number.\n",
      "138 is not a prime number.\n",
      "139 is a prime number.\n",
      "140 is not a prime number.\n",
      "141 is not a prime number.\n",
      "142 is not a prime number.\n",
      "143 is not a prime number.\n",
      "144 is not a prime number.\n",
      "145 is not a prime number.\n",
      "146 is not a prime number.\n",
      "147 is not a prime number.\n",
      "148 is not a prime number.\n",
      "149 is a prime number.\n",
      "150 is not a prime number.\n",
      "151 is a prime number.\n",
      "152 is not a prime number.\n",
      "153 is not a prime number.\n",
      "154 is not a prime number.\n",
      "155 is not a prime number.\n",
      "156 is not a prime number.\n",
      "157 is a prime number.\n",
      "158 is not a prime number.\n",
      "159 is not a prime number.\n",
      "160 is not a prime number.\n",
      "161 is not a prime number.\n",
      "162 is not a prime number.\n",
      "163 is a prime number.\n",
      "164 is not a prime number.\n",
      "165 is not a prime number.\n",
      "166 is not a prime number.\n",
      "167 is a prime number.\n",
      "168 is not a prime number.\n",
      "169 is not a prime number.\n",
      "170 is not a prime number.\n",
      "171 is not a prime number.\n",
      "172 is not a prime number.\n",
      "173 is a prime number.\n",
      "174 is not a prime number.\n",
      "175 is not a prime number.\n",
      "176 is not a prime number.\n",
      "177 is not a prime number.\n",
      "178 is not a prime number.\n",
      "179 is a prime number.\n",
      "180 is not a prime number.\n",
      "181 is a prime number.\n",
      "182 is not a prime number.\n",
      "183 is not a prime number.\n",
      "184 is not a prime number.\n",
      "185 is not a prime number.\n",
      "186 is not a prime number.\n",
      "187 is not a prime number.\n",
      "188 is not a prime number.\n",
      "189 is not a prime number.\n",
      "190 is not a prime number.\n",
      "191 is a prime number.\n",
      "192 is not a prime number.\n",
      "193 is a prime number.\n",
      "194 is not a prime number.\n",
      "195 is not a prime number.\n",
      "196 is not a prime number.\n",
      "197 is a prime number.\n",
      "198 is not a prime number.\n",
      "199 is a prime number.\n",
      "200 is not a prime number.\n"
     ]
    }
   ],
   "source": [
    "def is_prime(num):\n",
    "    if num < 2:\n",
    "        return False\n",
    "    for i in range(2, int(num**0.5) + 1):\n",
    "        if num % i == 0:\n",
    "            return False\n",
    "    return True\n",
    "\n",
    "def check_primes():\n",
    "    for number in range(1, 201):  \n",
    "        if is_prime(number):\n",
    "            print(f\"{number} is a prime number.\")\n",
    "        else:\n",
    "            print(f\"{number} is not a prime number.\")\n",
    "check_primes()\n",
    "\n",
    "\n"
   ]
  },
  {
   "cell_type": "markdown",
   "id": "8ca8e5fa-5ed1-4329-827e-6e96009cb241",
   "metadata": {},
   "source": [
    "5. Create an iterator class in Python that generates the Fibonacci sequence up to a specified number of \n",
    "terms.\n"
   ]
  },
  {
   "cell_type": "code",
   "execution_count": 31,
   "id": "6de853f4-9b6f-4d23-b25d-fe5b800868fe",
   "metadata": {},
   "outputs": [],
   "source": [
    "def fib(n):\n",
    "    a = 0\n",
    "    b = 1\n",
    "    for i in range(n) :\n",
    "        yield a\n",
    "        a, b = b, b, a + b"
   ]
  },
  {
   "cell_type": "code",
   "execution_count": 37,
   "id": "ad8c1d8a-7bac-46e6-be2e-f4fc8a078010",
   "metadata": {},
   "outputs": [
    {
     "data": {
      "text/plain": [
       "<generator object fib at 0x000001EFDB50B1F0>"
      ]
     },
     "execution_count": 37,
     "metadata": {},
     "output_type": "execute_result"
    }
   ],
   "source": [
    "fib(100)"
   ]
  },
  {
   "cell_type": "code",
   "execution_count": 41,
   "id": "ca662529-027d-474a-808e-a2efe51dd8b7",
   "metadata": {},
   "outputs": [
    {
     "data": {
      "text/plain": [
       "0"
      ]
     },
     "execution_count": 41,
     "metadata": {},
     "output_type": "execute_result"
    }
   ],
   "source": [
    "next(fib(100))"
   ]
  },
  {
   "cell_type": "markdown",
   "id": "110320f8-2e30-4ace-848d-ddd0b80f7c7d",
   "metadata": {},
   "source": [
    "6. Write a generator function in Python that yields the powers of 2 up to a given exponent."
   ]
  },
  {
   "cell_type": "code",
   "execution_count": 43,
   "id": "0fa0fc4d-a948-4143-9608-fbcc1cfa14c4",
   "metadata": {},
   "outputs": [
    {
     "name": "stdout",
     "output_type": "stream",
     "text": [
      "1\n",
      "2\n",
      "4\n",
      "8\n"
     ]
    }
   ],
   "source": [
    "def powers_of_2(n):\n",
    "    for exp in range( n+ 1):\n",
    "        yield 2 ** exp\n",
    "\n",
    "for power in powers_of_2(3):\n",
    "    print(power)\n"
   ]
  },
  {
   "cell_type": "markdown",
   "id": "f2a3b63c-cbb3-4e67-b346-97c59c2c7559",
   "metadata": {},
   "source": [
    "7. Implement a generator function that reads a file line by line and yields each line as a string."
   ]
  },
  {
   "cell_type": "markdown",
   "id": "1dcaabc3-06ea-49e5-bb24-8fb66468c269",
   "metadata": {},
   "source": [
    "def read(file_path):\n",
    "    with open(file_path, 'r') as file:\n",
    "        for line in file:\n",
    "            yield line.strip()\n",
    "for line in read('ASSIGNMENT.pdf'):\n",
    "    print(line)\n"
   ]
  },
  {
   "cell_type": "markdown",
   "id": "0b319ac7-e5c0-46fb-ac6a-939984638af9",
   "metadata": {},
   "source": [
    "8. Use a lambda function in Python to sort a list of tuples based on the second element of each tuple."
   ]
  },
  {
   "cell_type": "code",
   "execution_count": 53,
   "id": "18ed1b52-b174-4890-b23f-e73cf63c5e2b",
   "metadata": {},
   "outputs": [
    {
     "name": "stdout",
     "output_type": "stream",
     "text": [
      "[(2, 1), (3, 2), (1, 3)]\n"
     ]
    }
   ],
   "source": [
    "Tlist = [(1, 3), (2, 1), (3, 2)]\n",
    "sorted_tuples = sorted(Tlist, key=lambda x: x[1])\n",
    "\n",
    "print(sorted_tuples)\n"
   ]
  },
  {
   "cell_type": "markdown",
   "id": "0962f80d-d731-4468-9227-fe574109d64a",
   "metadata": {},
   "source": [
    "9. Write a Python program that uses `map()` to convert a list of temperatures from Celsius to Fahrenheit."
   ]
  },
  {
   "cell_type": "code",
   "execution_count": 60,
   "id": "2931c12f-906c-4a8b-9ee2-ac6e90090242",
   "metadata": {},
   "outputs": [
    {
     "name": "stdout",
     "output_type": "stream",
     "text": [
      "[73.4, 176.0, 140.0]\n"
     ]
    }
   ],
   "source": [
    "celsius_temp = [23, 80 ,60]\n",
    "fahrenheit_temps = list(map(lambda c: (c * 9/5) + 32, celsius_temp))\n",
    "\n",
    "print(fahrenheit_temps)\n"
   ]
  },
  {
   "cell_type": "markdown",
   "id": "c3b19d8f-18a5-47d5-a31a-1404183f7fc5",
   "metadata": {},
   "source": [
    "10. Create a Python program that uses `filter()` to remove all the vowels from a given string."
   ]
  },
  {
   "cell_type": "code",
   "execution_count": 66,
   "id": "07e60036-1434-4f79-8f60-5bf55267b248",
   "metadata": {},
   "outputs": [
    {
     "name": "stdout",
     "output_type": "stream",
     "text": [
      "Dt scnc nlyss\n"
     ]
    }
   ],
   "source": [
    "def remove_vowels(string):\n",
    "    vowels = 'aeiouAEIOU'\n",
    "    return ''.join(filter(lambda char: char not in vowels, string))\n",
    "    \n",
    "\n",
    "print(remove_vowels(\"Data science analysis\"))\n"
   ]
  },
  {
   "cell_type": "markdown",
   "id": "0a917040-f27b-4a40-a039-d5dc94df7f65",
   "metadata": {},
   "source": [
    "11) Imagine an accounting routine used in a book shop. It works on a list with sublists, which look like this:\n",
    "\n",
    "\n",
    "\n",
    "\n",
    "\n",
    "\n",
    "\n",
    "Write a Python program, which returns a list with 2-tuples. Each tuple consists of the order number and the \n",
    "product of the price per item and the quantity. The product should be increased by 10,- € if the value of the \n",
    "order is smaller than 100,00 €.\n",
    "\n",
    "Write a Python program using lambda and map."
   ]
  },
  {
   "cell_type": "code",
   "execution_count": null,
   "id": "d5f80b48-0650-4e2b-b0ea-91491ebaa302",
   "metadata": {},
   "outputs": [],
   "source": [
    "orders = [\n",
    "    [34587, 'Learning Python', 'Mark Lutz', 4, 40.95],\n",
    "    [98762, 'Programming Python', 'Mark Lutz', 5, 56.80],\n",
    "    [77226, 'Head First Python', 'Paul Barry', 3, 32.95],\n",
    "    [88112, 'Einführung in Python3', 'Bernd Klein', 3, 24.99]\n",
    "]\n",
    "\n",
    "order_totals = list(map(lambda x: (x[0], x[3] * x[4] + 10) if x[3] * x[4] < 100 else (x[0], x[3] * x[4]), orders))\n",
    "\n",
    "# Example output\n",
    "# [(34587, 163.8), (98762, 284.0), (77226, 108.85000000000001), (88112, 84.97 + 10)]\n",
    "\n",
    "print(order_totals)\n"
   ]
  }
 ],
 "metadata": {
  "kernelspec": {
   "display_name": "Python 3 (ipykernel)",
   "language": "python",
   "name": "python3"
  },
  "language_info": {
   "codemirror_mode": {
    "name": "ipython",
    "version": 3
   },
   "file_extension": ".py",
   "mimetype": "text/x-python",
   "name": "python",
   "nbconvert_exporter": "python",
   "pygments_lexer": "ipython3",
   "version": "3.12.7"
  }
 },
 "nbformat": 4,
 "nbformat_minor": 5
}
